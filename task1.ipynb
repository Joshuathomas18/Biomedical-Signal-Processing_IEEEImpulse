{
 "cells": [
  {
   "cell_type": "code",
   "execution_count": 52,
   "metadata": {},
   "outputs": [],
   "source": [
    "import os\n",
    "import numpy as np\n",
    "import matplotlib.pyplot as plt\n",
    "import pandas as pd\n",
    "from scipy.signal import find_peaks"
   ]
  },
  {
   "cell_type": "code",
   "execution_count": 46,
   "metadata": {},
   "outputs": [],
   "source": [
    "# Define helper functions for statistical metrics\n",
    "def compute_metrics(signal):\n",
    "    mean = np.mean(signal)\n",
    "    zero_crossing_rate = ((signal[:-1] * signal[1:]) < 0).sum() / len(signal)\n",
    "    signal_range = np.ptp(signal)\n",
    "    energy = np.sum(np.square(signal))\n",
    "    rms = np.sqrt(np.mean(np.square(signal)))\n",
    "    variance = np.var(signal)\n",
    "    \n",
    "    return {\n",
    "        'Mean': mean,\n",
    "        'Zero Crossing Rate': zero_crossing_rate,\n",
    "        'Range': signal_range,\n",
    "        'Energy': energy,\n",
    "        'RMS': rms,\n",
    "        'Variance': variance\n",
    "    }"
   ]
  },
  {
   "cell_type": "code",
   "execution_count": 49,
   "metadata": {},
   "outputs": [],
   "source": [
    "# Plot individual channels and superimposed signals\n",
    "def plot_signals(data, class_name, sample_id):\n",
    "    n_channels = data.shape[0]  # Initialize number of channels from data shape\n",
    "    time = np.arange(data.shape[1])  # Initialize time based on data length\n",
    "    # Create folder for saving plots\n",
    "    output_folder = f\"plots/class_{class_name}_sample_{sample_id}\"\n",
    "    os.makedirs(output_folder, exist_ok=True)\n",
    "    \n",
    "    combined_signal = np.zeros_like(data[0])\n",
    "    for i in range(n_channels):\n",
    "        plt.figure()\n",
    "        plt.plot(time, data[i], label=f\"Channel {i+1}\")\n",
    "        plt.xlabel(\"Time\")\n",
    "        plt.ylabel(\"Amplitude\")\n",
    "        plt.title(f\"EEG Signal for Channel {i+1} (Class: {class_name}, Sample: {sample_id})\")\n",
    "        plt.legend()\n",
    "        plt.savefig(f\"{output_folder}/channel_{i+1}.png\")\n",
    "        plt.close()\n",
    "        combined_signal += data[i]\n",
    "\n",
    "    # Plot combined signal\n",
    "    plt.figure()\n",
    "    for i in range(n_channels):\n",
    "        plt.plot(time, data[i], label=f\"Channel {i+1}\")\n",
    "    plt.xlabel(\"Time\")\n",
    "    plt.ylabel(\"Amplitude\")\n",
    "    plt.title(f\"Superimposed EEG Signals (Class: {class_name}, Sample: {sample_id})\")\n",
    "    plt.legend()\n",
    "    plt.savefig(f\"{output_folder}/combined_signal.png\")\n",
    "    plt.close()\n",
    "\n",
    "\n",
    "    "
   ]
  },
  {
   "cell_type": "code",
   "execution_count": 50,
   "metadata": {},
   "outputs": [],
   "source": [
    " #Main function to process and visualize data\n",
    "\n",
    "def process_data(data_path, classes):\n",
    "    all_metrics = []\n",
    "\n",
    "    for class_name in classes:\n",
    "        class_folder = os.path.join(data_path, class_name)\n",
    "        samples = os.listdir(class_folder)[:1]  # Select the first sample for demonstration\n",
    "\n",
    "        for sample_id, sample_file in enumerate(samples):\n",
    "            sample_path = os.path.join(class_folder, sample_file)\n",
    "            data = np.load(sample_path)  # Assuming data is saved as .npy file\n",
    "\n",
    "            # Plot signals\n",
    "            plot_signals(data, class_name, sample_id)\n",
    "\n",
    "            # Compute metrics\n",
    "            for i in range(data.shape[0]):\n",
    "                metrics = compute_metrics(data[i])\n",
    "                metrics['Class'] = class_name\n",
    "                metrics['Sample'] = sample_id\n",
    "                metrics['Channel'] = f\"Channel {i+1}\"\n",
    "                all_metrics.append(metrics)\n",
    "\n",
    "    return all_metrics"
   ]
  },
  {
   "cell_type": "code",
   "execution_count": 51,
   "metadata": {},
   "outputs": [
    {
     "name": "stdout",
     "output_type": "stream",
     "text": [
      "Metrics saved to output\\eeg_metrics.csv and output\\eeg_metrics.xlsx\n"
     ]
    }
   ],
   "source": [
    "# Path to the data folder and class names\n",
    "data_path = r\"C:/Users/User/Desktop/Hackathon/Impulse/train_data\"  # Update this path\n",
    "classes = [\"Complex_Partial_Seizures\", \"Electrographic_Seizures\", \"Normal\", \"Video_detected_Seizures_with_no_visual_change_over_EEG\"]\n",
    "\n",
    "# Process data and retrieve metrics\n",
    "metrics = process_data(data_path, classes)\n",
    "\n",
    "# Save metrics to CSV and Excel\n",
    "metrics_df = pd.DataFrame(metrics)\n",
    "metrics_csv_path = os.path.join(\"output\", \"eeg_metrics.csv\")\n",
    "metrics_excel_path = os.path.join(\"output\", \"eeg_metrics.xlsx\")\n",
    "os.makedirs(\"output\", exist_ok=True)\n",
    "metrics_df.to_csv(metrics_csv_path, index=False)\n",
    "metrics_df.to_excel(metrics_excel_path, index=False)\n",
    "\n",
    "print(f\"Metrics saved to {metrics_csv_path} and {metrics_excel_path}\")\n"
   ]
  }
 ],
 "metadata": {
  "kernelspec": {
   "display_name": "Python (env)",
   "language": "python",
   "name": "env"
  },
  "language_info": {
   "codemirror_mode": {
    "name": "ipython",
    "version": 3
   },
   "file_extension": ".py",
   "mimetype": "text/x-python",
   "name": "python",
   "nbconvert_exporter": "python",
   "pygments_lexer": "ipython3",
   "version": "3.11.9"
  }
 },
 "nbformat": 4,
 "nbformat_minor": 2
}
